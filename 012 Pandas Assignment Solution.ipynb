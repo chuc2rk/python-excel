{
 "cells": [
  {
   "cell_type": "code",
   "execution_count": null,
   "metadata": {},
   "outputs": [],
   "source": [
    "import pandas as pd"
   ]
  },
  {
   "cell_type": "code",
   "execution_count": 3,
   "metadata": {},
   "outputs": [],
   "source": [
    "# Read an Excel file named \"sales_data.xlsx\" into a DataFrame.\n",
    "# Set \"Row ID\" as the index column for the DataFrame.\n",
    "data = pd.read_excel (\"sales_data.xlsx\", index_col = \"Row ID\")"
   ]
  },
  {
   "cell_type": "code",
   "execution_count": 4,
   "metadata": {},
   "outputs": [],
   "source": [
    "# Create a new column called \"month_year\" by formatting the \"Order Date\" column\n",
    "# as a string in the format \"MM-YYYY\".\n",
    "data[\"month_year\"] = data[\"Order Date\"].dt.strftime(\"%m-%Y\")"
   ]
  },
  {
   "cell_type": "code",
   "execution_count": null,
   "metadata": {},
   "outputs": [],
   "source": [
    "# Group the DataFrame 'data' by the values in the \"month_year\" column,\n",
    "# creating separate groups for each unique \"month_year\" value.\n",
    "gb = data.groupby(\"month_year\")"
   ]
  }
 ],
 "metadata": {
  "kernelspec": {
   "display_name": "myenv",
   "language": "python",
   "name": "python3"
  },
  "language_info": {
   "codemirror_mode": {
    "name": "ipython",
    "version": 3
   },
   "file_extension": ".py",
   "mimetype": "text/x-python",
   "name": "python",
   "nbconvert_exporter": "python",
   "pygments_lexer": "ipython3",
   "version": "3.10.13"
  }
 },
 "nbformat": 4,
 "nbformat_minor": 2
}
